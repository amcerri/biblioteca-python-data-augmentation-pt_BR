{
 "cells": [
  {
   "attachments": {},
   "cell_type": "markdown",
   "metadata": {},
   "source": [
    "# Sampling and testing the augmentation module\n",
    "\n",
    "This notebook is designed to verify the data generated for specific augmentation techniques, such as the synonym dictionary used for synonym replacement. \n",
    "\n",
    "Additionally, the notebook contains code to test actual usage of functions that will be implemented in the data augmentation module."
   ]
  },
  {
   "attachments": {},
   "cell_type": "markdown",
   "metadata": {},
   "source": [
    "## Imports and initializations"
   ]
  },
  {
   "cell_type": "code",
   "execution_count": 1,
   "metadata": {},
   "outputs": [
    {
     "name": "stderr",
     "output_type": "stream",
     "text": [
      "Using state Sao Paulo server backend.\n"
     ]
    }
   ],
   "source": [
    "# Importing the required libraries and packages\n",
    "import pandas as pd\n",
    "import pyarrow as pa\n",
    "import pyarrow.parquet as pq\n",
    "import numpy as np\n",
    "import translators as ts\n",
    "import translators.server as tss\n",
    "from IPython.display import clear_output"
   ]
  },
  {
   "cell_type": "code",
   "execution_count": 7,
   "metadata": {},
   "outputs": [],
   "source": [
    "# Loading the synonyms into a pandas dataframe\n",
    "synonyms = pq.read_table('../data/synonyms_pt_BR.parquet').to_pandas()"
   ]
  },
  {
   "attachments": {},
   "cell_type": "markdown",
   "metadata": {},
   "source": [
    "## Visualizing the data"
   ]
  },
  {
   "cell_type": "code",
   "execution_count": 10,
   "metadata": {},
   "outputs": [
    {
     "name": "stdout",
     "output_type": "stream",
     "text": [
      "Number of words: 210977\n",
      "Number of words with each letter of the alphabet:\n",
      "a: 31490\n",
      "b: 5462\n",
      "c: 21891\n",
      "d: 23639\n",
      "e: 27680\n",
      "f: 7252\n",
      "g: 3422\n",
      "h: 1757\n",
      "i: 11299\n",
      "j: 830\n",
      "k: 8\n",
      "l: 4082\n",
      "m: 7933\n",
      "n: 1986\n",
      "o: 3740\n",
      "p: 16470\n",
      "q: 621\n",
      "r: 16751\n",
      "s: 10846\n",
      "t: 7240\n",
      "u: 1268\n",
      "v: 4369\n",
      "w: 3\n",
      "x: 166\n",
      "y: 0\n",
      "z: 539\n"
     ]
    }
   ],
   "source": [
    "print('Number of words: ' + str(len(synonyms)))\n",
    "print('Number of words with each letter of the alphabet:')\n",
    "\n",
    "alphabet = 'abcdefghijklmnopqrstuvwxyzáàâãéèêíìóòôõúùç'\n",
    "\n",
    "# Count the number of words that starts with each letter of the alphabet, store the result in a dictionary\n",
    "letter_count = {}\n",
    "\n",
    "for letter in alphabet:\n",
    "    letter_count[letter] = 0\n",
    "    \n",
    "for word in synonyms['word']:\n",
    "    # Set the word to lowercase\n",
    "    word = word.lower()\n",
    "    letter_count[word[0]] += 1\n",
    "\n",
    "# Display the number of words that starts with each letter of the alphabet\n",
    "for letter in 'abcdefghijklmnopqrstuvwxyz':\n",
    "    print(letter + ': ' + str(letter_count[letter]))"
   ]
  },
  {
   "cell_type": "code",
   "execution_count": 11,
   "metadata": {},
   "outputs": [
    {
     "data": {
      "text/html": [
       "<div>\n",
       "<style scoped>\n",
       "    .dataframe tbody tr th:only-of-type {\n",
       "        vertical-align: middle;\n",
       "    }\n",
       "\n",
       "    .dataframe tbody tr th {\n",
       "        vertical-align: top;\n",
       "    }\n",
       "\n",
       "    .dataframe thead th {\n",
       "        text-align: right;\n",
       "    }\n",
       "</style>\n",
       "<table border=\"1\" class=\"dataframe\">\n",
       "  <thead>\n",
       "    <tr style=\"text-align: right;\">\n",
       "      <th></th>\n",
       "      <th>word</th>\n",
       "      <th>synonyms</th>\n",
       "    </tr>\n",
       "  </thead>\n",
       "  <tbody>\n",
       "    <tr>\n",
       "      <th>0</th>\n",
       "      <td>Abade</td>\n",
       "      <td>[clérigo, confessor, cura, padre, prelado, pároco, sacerdote]</td>\n",
       "    </tr>\n",
       "    <tr>\n",
       "      <th>1</th>\n",
       "      <td>Abadia</td>\n",
       "      <td>[convento, mosteiro, presbitério, sé, basílica, catedral, igreja, santuário, templo, ádito]</td>\n",
       "    </tr>\n",
       "    <tr>\n",
       "      <th>2</th>\n",
       "      <td>Abalo</td>\n",
       "      <td>[trepar, concussão, mossa, efervescência, agitação, terremoto, emoção, comoção, choque, estremeção, trepidação, tremor, impulso, balanço, alvoroço, secussão, perturbação]</td>\n",
       "    </tr>\n",
       "    <tr>\n",
       "      <th>3</th>\n",
       "      <td>Abarracamento</td>\n",
       "      <td>[acampamento, aquartelamento, bivaque]</td>\n",
       "    </tr>\n",
       "    <tr>\n",
       "      <th>4</th>\n",
       "      <td>Abrigada</td>\n",
       "      <td>[resguardo, refúgio, abrigo, asilo, cobertura, reduto, valhacouto]</td>\n",
       "    </tr>\n",
       "    <tr>\n",
       "      <th>...</th>\n",
       "      <td>...</td>\n",
       "      <td>...</td>\n",
       "    </tr>\n",
       "    <tr>\n",
       "      <th>210972</th>\n",
       "      <td>únguis</td>\n",
       "      <td>[úngue]</td>\n",
       "    </tr>\n",
       "    <tr>\n",
       "      <th>210973</th>\n",
       "      <td>única</td>\n",
       "      <td>[uma, inédita]</td>\n",
       "    </tr>\n",
       "    <tr>\n",
       "      <th>210974</th>\n",
       "      <td>único</td>\n",
       "      <td>[sempar, singular, um, uno, incomparável, ímpar, só, inédito, inconfundível, sui generis, individual]</td>\n",
       "    </tr>\n",
       "    <tr>\n",
       "      <th>210975</th>\n",
       "      <td>únicos</td>\n",
       "      <td>[sós, uns, individuais, incomparáveis, incomparávéis, inconfundíveis, inéditos, ímpares, singulares]</td>\n",
       "    </tr>\n",
       "    <tr>\n",
       "      <th>210976</th>\n",
       "      <td>úteis</td>\n",
       "      <td>[útil]</td>\n",
       "    </tr>\n",
       "  </tbody>\n",
       "</table>\n",
       "<p>210977 rows × 2 columns</p>\n",
       "</div>"
      ],
      "text/plain": [
       "                 word  \\\n",
       "0               Abade   \n",
       "1              Abadia   \n",
       "2               Abalo   \n",
       "3       Abarracamento   \n",
       "4            Abrigada   \n",
       "...               ...   \n",
       "210972         únguis   \n",
       "210973          única   \n",
       "210974          único   \n",
       "210975         únicos   \n",
       "210976          úteis   \n",
       "\n",
       "                                                                                                                                                                          synonyms  \n",
       "0                                                                                                                    [clérigo, confessor, cura, padre, prelado, pároco, sacerdote]  \n",
       "1                                                                                      [convento, mosteiro, presbitério, sé, basílica, catedral, igreja, santuário, templo, ádito]  \n",
       "2       [trepar, concussão, mossa, efervescência, agitação, terremoto, emoção, comoção, choque, estremeção, trepidação, tremor, impulso, balanço, alvoroço, secussão, perturbação]  \n",
       "3                                                                                                                                           [acampamento, aquartelamento, bivaque]  \n",
       "4                                                                                                               [resguardo, refúgio, abrigo, asilo, cobertura, reduto, valhacouto]  \n",
       "...                                                                                                                                                                            ...  \n",
       "210972                                                                                                                                                                     [úngue]  \n",
       "210973                                                                                                                                                              [uma, inédita]  \n",
       "210974                                                                       [sempar, singular, um, uno, incomparável, ímpar, só, inédito, inconfundível, sui generis, individual]  \n",
       "210975                                                                        [sós, uns, individuais, incomparáveis, incomparávéis, inconfundíveis, inéditos, ímpares, singulares]  \n",
       "210976                                                                                                                                                                      [útil]  \n",
       "\n",
       "[210977 rows x 2 columns]"
      ]
     },
     "execution_count": 11,
     "metadata": {},
     "output_type": "execute_result"
    }
   ],
   "source": [
    "# Displaying the dataframe\n",
    "pd.set_option('display.max_colwidth', None)\n",
    "synonyms"
   ]
  },
  {
   "cell_type": "code",
   "execution_count": 12,
   "metadata": {},
   "outputs": [
    {
     "data": {
      "text/html": [
       "<div>\n",
       "<style scoped>\n",
       "    .dataframe tbody tr th:only-of-type {\n",
       "        vertical-align: middle;\n",
       "    }\n",
       "\n",
       "    .dataframe tbody tr th {\n",
       "        vertical-align: top;\n",
       "    }\n",
       "\n",
       "    .dataframe thead th {\n",
       "        text-align: right;\n",
       "    }\n",
       "</style>\n",
       "<table border=\"1\" class=\"dataframe\">\n",
       "  <thead>\n",
       "    <tr style=\"text-align: right;\">\n",
       "      <th></th>\n",
       "      <th>word</th>\n",
       "      <th>synonyms</th>\n",
       "    </tr>\n",
       "  </thead>\n",
       "  <tbody>\n",
       "    <tr>\n",
       "      <th>0</th>\n",
       "      <td>kafkiano</td>\n",
       "      <td>[absurdo, confuso, surreal]</td>\n",
       "    </tr>\n",
       "    <tr>\n",
       "      <th>1</th>\n",
       "      <td>kaiser</td>\n",
       "      <td>[soberano, rei, majestade]</td>\n",
       "    </tr>\n",
       "    <tr>\n",
       "      <th>2</th>\n",
       "      <td>kamikaze</td>\n",
       "      <td>[camicase, suicida]</td>\n",
       "    </tr>\n",
       "    <tr>\n",
       "      <th>3</th>\n",
       "      <td>kardecismo</td>\n",
       "      <td>[espiritismo]</td>\n",
       "    </tr>\n",
       "    <tr>\n",
       "      <th>4</th>\n",
       "      <td>kit</td>\n",
       "      <td>[conjunto, coleção, estojo]</td>\n",
       "    </tr>\n",
       "    <tr>\n",
       "      <th>5</th>\n",
       "      <td>kitsch</td>\n",
       "      <td>[ridículo, brega, cafona]</td>\n",
       "    </tr>\n",
       "    <tr>\n",
       "      <th>6</th>\n",
       "      <td>kiwi</td>\n",
       "      <td>[quivi, quiuí]</td>\n",
       "    </tr>\n",
       "    <tr>\n",
       "      <th>7</th>\n",
       "      <td>know-how</td>\n",
       "      <td>[inaptidão, inexperiência]</td>\n",
       "    </tr>\n",
       "  </tbody>\n",
       "</table>\n",
       "</div>"
      ],
      "text/plain": [
       "         word                     synonyms\n",
       "0    kafkiano  [absurdo, confuso, surreal]\n",
       "1      kaiser   [soberano, rei, majestade]\n",
       "2    kamikaze          [camicase, suicida]\n",
       "3  kardecismo                [espiritismo]\n",
       "4         kit  [conjunto, coleção, estojo]\n",
       "5      kitsch    [ridículo, brega, cafona]\n",
       "6        kiwi               [quivi, quiuí]\n",
       "7    know-how   [inaptidão, inexperiência]"
      ]
     },
     "execution_count": 12,
     "metadata": {},
     "output_type": "execute_result"
    }
   ],
   "source": [
    "# Display the words and synonyms that starts with a specific letter\n",
    "letter = 'k'\n",
    "\n",
    "df_combined[df_combined['word'].str.lower().str.startswith(letter)].reset_index(drop=True)"
   ]
  },
  {
   "cell_type": "code",
   "execution_count": 13,
   "metadata": {},
   "outputs": [
    {
     "data": {
      "text/plain": [
       "['abreviatura', 'abreviamento']"
      ]
     },
     "execution_count": 13,
     "metadata": {},
     "output_type": "execute_result"
    }
   ],
   "source": [
    "# Displaying the synonyms of a specific word\n",
    "word = 'abreviação'\n",
    "\n",
    "list(df_combined[df_combined['word'] == word]['synonyms'].values[0])"
   ]
  },
  {
   "attachments": {},
   "cell_type": "markdown",
   "metadata": {},
   "source": [
    "## Testing the augmentation techniques"
   ]
  },
  {
   "attachments": {},
   "cell_type": "markdown",
   "metadata": {},
   "source": [
    "### Synonym replacement"
   ]
  },
  {
   "cell_type": "code",
   "execution_count": 14,
   "metadata": {},
   "outputs": [],
   "source": [
    "# Function to augment a sentence by replacing words with synonyms\n",
    "def synonyms_replacement(sentence, df):\n",
    "    # Set the sentence to lowercase\n",
    "    sentence = sentence.lower()\n",
    "    \n",
    "    # Split the sentence into words\n",
    "    words = sentence.split()\n",
    "\n",
    "    # For each word in the sentence, find the synonyms\n",
    "    for i, word in enumerate(words):\n",
    "        # check if the word is in the DataFrame\n",
    "        if word not in df['word'].values:\n",
    "            continue\n",
    "                \n",
    "        synonyms = list(df[df['word'] == word]['synonyms'].values[0])\n",
    "        \n",
    "        # If there are synonyms, replace the word with a synonym\n",
    "        if len(synonyms) > 0:\n",
    "            # select a random synonym\n",
    "            synonym = np.random.choice(synonyms)\n",
    "            # replace the word with the synonym\n",
    "            words[i] = synonym\n",
    "            \n",
    "    # Join the words into a sentence\n",
    "    return ' '.join(words)"
   ]
  },
  {
   "cell_type": "code",
   "execution_count": 15,
   "metadata": {},
   "outputs": [
    {
     "name": "stdout",
     "output_type": "stream",
     "text": [
      "Teste de augmentação de texto para o projeto.\n",
      "arguição de augmentação de teor contra isto projeto.\n"
     ]
    }
   ],
   "source": [
    "# Testing the synonyms replacement function\n",
    "sentence = 'Teste de augmentação de texto para o projeto.'\n",
    "\n",
    "augmented_sentence = synonyms_replacement(sentence, synonyms)\n",
    "\n",
    "# print the original text and the augmented text\n",
    "print(sentence)\n",
    "print(augmented_sentence)"
   ]
  },
  {
   "attachments": {},
   "cell_type": "markdown",
   "metadata": {},
   "source": [
    "### Back translation"
   ]
  },
  {
   "cell_type": "code",
   "execution_count": 16,
   "metadata": {},
   "outputs": [
    {
     "name": "stdout",
     "output_type": "stream",
     "text": [
      "Text augmentation test for the project.\n",
      "Teste de aumento de texto para o projeto.\n"
     ]
    }
   ],
   "source": [
    "# Translate the sentence to another language (English in this example) and then back to Portuguese\n",
    "english = ts.translate_text(sentence, translator='google', to_language='en')\n",
    "portuguese = ts.translate_text(english, translator='google', to_language='pt')\n",
    "\n",
    "print(english)\n",
    "print(portuguese)"
   ]
  },
  {
   "attachments": {},
   "cell_type": "markdown",
   "metadata": {},
   "source": [
    "## Other tests (still in progress)"
   ]
  },
  {
   "cell_type": "code",
   "execution_count": 21,
   "metadata": {},
   "outputs": [
    {
     "name": "stdout",
     "output_type": "stream",
     "text": [
      "[Synset('set.n.01'), Synset('set.n.02'), Synset('set.n.03'), Synset('stage_set.n.01'), Synset('set.n.05'), Synset('bent.n.01'), Synset('set.n.07'), Synset('set.n.08'), Synset('hardening.n.02'), Synset('set.n.10'), Synset('set.n.11'), Synset('set.n.12'), Synset('set.n.13'), Synset('put.v.01'), Synset('determine.v.03'), Synset('specify.v.02'), Synset('set.v.04'), Synset('set.v.05'), Synset('set.v.06'), Synset('fix.v.12'), Synset('set.v.08'), Synset('set.v.09'), Synset('set.v.10'), Synset('arrange.v.06'), Synset('plant.v.01'), Synset('set.v.13'), Synset('jell.v.01'), Synset('typeset.v.01'), Synset('set.v.16'), Synset('set.v.17'), Synset('set.v.18'), Synset('sic.v.01'), Synset('place.v.11'), Synset('rig.v.04'), Synset('set_up.v.04'), Synset('adjust.v.01'), Synset('fructify.v.03'), Synset('dress.v.16'), Synset('fit.s.02'), Synset('fixed.s.02'), Synset('located.s.01'), Synset('laid.s.01'), Synset('set.s.05'), Synset('determined.s.04'), Synset('hardened.s.05')]\n"
     ]
    },
    {
     "name": "stderr",
     "output_type": "stream",
     "text": [
      "[nltk_data] Downloading package wordnet to\n",
      "[nltk_data]     C:\\Users\\artur\\AppData\\Roaming\\nltk_data...\n",
      "[nltk_data]   Package wordnet is already up-to-date!\n"
     ]
    }
   ],
   "source": [
    "# First, you're going to need to import wordnet:\n",
    "import nltk\n",
    "from nltk.corpus import wordnet\n",
    "\n",
    "nltk.download('wordnet')\n",
    "\n",
    "# Then, we're going to use the term \"program\" to find synsets like so:\n",
    "syns = wordnet.synsets(\"set\")\n",
    "\n",
    "# Print all the synonyms\n",
    "print(syns)"
   ]
  },
  {
   "cell_type": "code",
   "execution_count": 141,
   "metadata": {},
   "outputs": [
    {
     "data": {
      "text/html": [
       "<div>\n",
       "<style scoped>\n",
       "    .dataframe tbody tr th:only-of-type {\n",
       "        vertical-align: middle;\n",
       "    }\n",
       "\n",
       "    .dataframe tbody tr th {\n",
       "        vertical-align: top;\n",
       "    }\n",
       "\n",
       "    .dataframe thead th {\n",
       "        text-align: right;\n",
       "    }\n",
       "</style>\n",
       "<table border=\"1\" class=\"dataframe\">\n",
       "  <thead>\n",
       "    <tr style=\"text-align: right;\">\n",
       "      <th></th>\n",
       "      <th>word</th>\n",
       "      <th>synonyms</th>\n",
       "    </tr>\n",
       "  </thead>\n",
       "  <tbody>\n",
       "    <tr>\n",
       "      <th>0</th>\n",
       "      <td>a ver-o-mar, amorim e terroso</td>\n",
       "      <td>[]</td>\n",
       "    </tr>\n",
       "    <tr>\n",
       "      <th>1</th>\n",
       "      <td>a do baço</td>\n",
       "      <td>[]</td>\n",
       "    </tr>\n",
       "    <tr>\n",
       "      <th>2</th>\n",
       "      <td>a ver-o-mar</td>\n",
       "      <td>[]</td>\n",
       "    </tr>\n",
       "    <tr>\n",
       "      <th>3</th>\n",
       "      <td>a da gorda</td>\n",
       "      <td>[]</td>\n",
       "    </tr>\n",
       "    <tr>\n",
       "      <th>4</th>\n",
       "      <td>a da beja</td>\n",
       "      <td>[]</td>\n",
       "    </tr>\n",
       "    <tr>\n",
       "      <th>...</th>\n",
       "      <td>...</td>\n",
       "      <td>...</td>\n",
       "    </tr>\n",
       "    <tr>\n",
       "      <th>7146</th>\n",
       "      <td>inchacha</td>\n",
       "      <td>[]</td>\n",
       "    </tr>\n",
       "    <tr>\n",
       "      <th>7147</th>\n",
       "      <td>indaiabira</td>\n",
       "      <td>[]</td>\n",
       "    </tr>\n",
       "    <tr>\n",
       "      <th>7148</th>\n",
       "      <td>incaia</td>\n",
       "      <td>[]</td>\n",
       "    </tr>\n",
       "    <tr>\n",
       "      <th>7149</th>\n",
       "      <td>imperador</td>\n",
       "      <td>[kaiser, rei, soberano, majestade, monarca, senhor, avassalador, césar]</td>\n",
       "    </tr>\n",
       "    <tr>\n",
       "      <th>7150</th>\n",
       "      <td>imigrante</td>\n",
       "      <td>[]</td>\n",
       "    </tr>\n",
       "  </tbody>\n",
       "</table>\n",
       "<p>7151 rows × 2 columns</p>\n",
       "</div>"
      ],
      "text/plain": [
       "                               word  \\\n",
       "0     a ver-o-mar, amorim e terroso   \n",
       "1                         a do baço   \n",
       "2                       a ver-o-mar   \n",
       "3                        a da gorda   \n",
       "4                         a da beja   \n",
       "...                             ...   \n",
       "7146                       inchacha   \n",
       "7147                     indaiabira   \n",
       "7148                         incaia   \n",
       "7149                      imperador   \n",
       "7150                      imigrante   \n",
       "\n",
       "                                                                     synonyms  \n",
       "0                                                                          []  \n",
       "1                                                                          []  \n",
       "2                                                                          []  \n",
       "3                                                                          []  \n",
       "4                                                                          []  \n",
       "...                                                                       ...  \n",
       "7146                                                                       []  \n",
       "7147                                                                       []  \n",
       "7148                                                                       []  \n",
       "7149  [kaiser, rei, soberano, majestade, monarca, senhor, avassalador, césar]  \n",
       "7150                                                                       []  \n",
       "\n",
       "[7151 rows x 2 columns]"
      ]
     },
     "execution_count": 141,
     "metadata": {},
     "output_type": "execute_result"
    }
   ],
   "source": [
    "# load the parquet file from ../scrapy-sinonimos/synonyms_scraper/synonyms_scraper/synonyms.parquet\n",
    "df = pq.read_table('../scrapy-sinonimos/synonyms_scraper/synonyms.parquet').to_pandas()\n",
    "\n",
    "df"
   ]
  }
 ],
 "metadata": {
  "kernelspec": {
   "display_name": "Python 3",
   "language": "python",
   "name": "python3"
  },
  "language_info": {
   "codemirror_mode": {
    "name": "ipython",
    "version": 3
   },
   "file_extension": ".py",
   "mimetype": "text/x-python",
   "name": "python",
   "nbconvert_exporter": "python",
   "pygments_lexer": "ipython3",
   "version": "3.11.1"
  },
  "orig_nbformat": 4,
  "vscode": {
   "interpreter": {
    "hash": "4b00e70151b755bc02f6db254d67e0fdf553933eac08d0aa5854548684a01361"
   }
  }
 },
 "nbformat": 4,
 "nbformat_minor": 2
}
